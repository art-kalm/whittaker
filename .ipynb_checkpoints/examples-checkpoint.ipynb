{
 "cells": [
  {
   "cell_type": "markdown",
   "id": "9447d793",
   "metadata": {},
   "source": [
    "# Whittaker vectors for $\\mathfrak{gl}_N$: tutorial\n",
    "\n"
   ]
  },
  {
   "cell_type": "markdown",
   "id": "88159979",
   "metadata": {},
   "source": [
    "This is a tutorial to the `whittaker` \"package\" that allows to compute Whittaker vectors in the tensor product $\\mathcal{W} \\otimes (\\mathrm{Sym}^{\\bullet} \\mathbb{C}^N)^{\\otimes m}$ using the Kirillov projector from <a href=\"https://arxiv.org/abs/2310.06669\">arXiv:2310.06669</a>, where $\\mathcal{W} = \\mathbb{C}_{\\psi} \\otimes_{\\mathfrak{n}_-} \\mathrm{U}(\\mathfrak{gl}_N)$ (for notations, we refer to <em>loc. cit.</em>)."
   ]
  },
  {
   "cell_type": "markdown",
   "id": "9b622ffc",
   "metadata": {},
   "source": [
    "The \"Whittaker\" class has four parameters:\n",
    "<ul>\n",
    "    <li> <b>N</b> : <b style=\"color:#ff3399\">int</b> — dimension; </li>\n",
    "    <li> <b>asymptotic</b> : <b style=\"color:#ff3399\">bool</b> — if \"True\", the constructions use the formal parameter $\\hbar$ considered as an element of the Laurent polynomial ring (in particular, the expression $\\hbar^{-1}$ is defined, but $1/(\\hbar-1)$ is not); if \"False\", then $\\hbar=1$.</li>\n",
    "    <li> <b>prefixes</b> : <b style=\"color:#ff3399\">list</b> — defines the variable names in each tensor component $\\mathrm{Sym}^{\\bullet} \\mathbb{C}^N$.  </li>\n",
    "    <li> <b>base</b> : <b style=\"color:#ff3399\">Ring</b> - base ring for the Lie algebra (by default, it is the ring $QQ$ of rational numbers). </li>\n",
    "</ul>"
   ]
  },
  {
   "cell_type": "markdown",
   "id": "939e4638",
   "metadata": {},
   "source": [
    "Let us introduce the `Whittaker` class. All the constructions use variable `t`."
   ]
  },
  {
   "cell_type": "code",
   "execution_count": 20,
   "id": "c0136233",
   "metadata": {},
   "outputs": [],
   "source": [
    "from whittaker import Whittaker\n",
    "\n",
    "W = Whittaker(N=4,asymptotic=True,prefixes=['u','v'])\n",
    "G,t,N,h = W.G,W.t,W.N,W.hbar"
   ]
  },
  {
   "cell_type": "markdown",
   "id": "a9b16e44",
   "metadata": {},
   "source": [
    "The Lie algebra elements are introduced as `G['E_i_j']`. The PBW basis of $\\mathrm{U}_{\\hbar} (\\mathfrak{gl}_N)$ is with respect to the triangular decomposition $\\mathfrak{gl}_N = \\mathfrak{n}_- \\oplus \\mathfrak{h} \\oplus \\mathfrak{n}_+$, where $\\mathfrak{n}_-$ (resp. $\\mathfrak{n}_+)$ is the space of lower (resp. upper) triangular matrices and $\\mathfrak{h}$ is the diagonal ones. \n",
    "\n",
    "The vectors can be introduced as `G['v_i']` (`v` should be changed to the prefixes one set). In our case, the elements of copies of $\\mathrm{Sym}^{\\bullet} \\mathbb{C}^N$ correspond to variables $\\{u_i\\}, \\{v_j\\}$. "
   ]
  },
  {
   "cell_type": "code",
   "execution_count": 2,
   "id": "adfab67b",
   "metadata": {},
   "outputs": [
    {
     "name": "stdout",
     "output_type": "stream",
     "text": [
      "E_{21}*E_{12}:  G['E_2_1']*G['E_1_2']\n",
      "E_{12}*E_{21}:  G['E_2_1']*G['E_1_2'] + h*G['E_1_1'] - h*G['E_2_2']\n",
      "v_1:  G['v_1']\n"
     ]
    }
   ],
   "source": [
    "print(\"E_{21}*E_{12}: \",G['E_2_1']*G['E_1_2'])\n",
    "print(\"E_{12}*E_{21}: \",G['E_1_2']*G['E_2_1'])\n",
    "\n",
    "print(\"v_1: \", G['v_1'])"
   ]
  },
  {
   "cell_type": "markdown",
   "id": "9c3629a9",
   "metadata": {},
   "source": [
    "To make life easier, one can use the function `vector` which outputs the list of basis vector with the corresponding prefix."
   ]
  },
  {
   "cell_type": "code",
   "execution_count": 3,
   "id": "7fb4c70a",
   "metadata": {},
   "outputs": [
    {
     "data": {
      "text/plain": [
       "True"
      ]
     },
     "execution_count": 3,
     "metadata": {},
     "output_type": "execute_result"
    }
   ],
   "source": [
    "v,u = W.vector('v'), W.vector('u')\n",
    "v[1] == G['v_1']"
   ]
  },
  {
   "cell_type": "markdown",
   "id": "2da28f99",
   "metadata": {},
   "source": [
    "We consider $\\mathrm{U}_{\\hbar}(\\mathfrak{gl}_N) \\otimes (\\mathrm{Sym}^{\\bullet} \\mathbb{C}^N)^{\\otimes m}$ as a free Harish-Chandra bimodule in the notations of <a href=\"https://arxiv.org/abs/2310.06669\">arXiv:2310.06669</a>; in particular, let us see the difference between the left and the right multiplication."
   ]
  },
  {
   "cell_type": "code",
   "execution_count": 4,
   "id": "00d6dca5",
   "metadata": {},
   "outputs": [
    {
     "name": "stdout",
     "output_type": "stream",
     "text": [
      "E_{21}*v_1:  G['E_2_1']*G['v_1']\n",
      "v_1*E_{12}:  G['E_2_1']*G['v_1'] - h*G['v_2']\n"
     ]
    }
   ],
   "source": [
    "print(\"E_{21}*v_1: \",G['E_2_1']*v[1])\n",
    "print(\"v_1*E_{12}: \",v[1]*G['E_2_1'])"
   ]
  },
  {
   "cell_type": "markdown",
   "id": "ac12af8f",
   "metadata": {},
   "source": [
    "We identify $\\mathcal{W} \\otimes (\\mathrm{Sym}^{\\bullet} \\mathbb{C}^N)^{\\otimes m}$ with $\\mathrm{U}_{\\hbar}(\\mathfrak{b}) \\otimes (\\mathrm{Sym}^{\\bullet} \\mathbb{C}^N)^{\\otimes m}$, where $\\mathfrak{b} = \\mathfrak{h} \\oplus \\mathfrak{n}_+$ is the Borel subalgebra. To get the corresponding element of $\\mathcal{W} \\otimes (\\mathrm{Sym}^{\\bullet} \\mathbb{C}^N)^{\\otimes m}$, we apply the function `quotient`:"
   ]
  },
  {
   "cell_type": "code",
   "execution_count": 5,
   "id": "66154d31",
   "metadata": {},
   "outputs": [
    {
     "name": "stdout",
     "output_type": "stream",
     "text": [
      "Class of (E_{21}*v_1):  G['v_1']\n",
      "Class of (E_{31}*E_{11}*v_1):  0\n"
     ]
    }
   ],
   "source": [
    "print(\"Class of (E_{21}*v_1): \",W.quotient(G['E_2_1']*v[1]))\n",
    "print(\"Class of (E_{31}*E_{11}*v_1): \",W.quotient(G['E_3_1']*G['E_1_1']*v[1]))"
   ]
  },
  {
   "cell_type": "markdown",
   "id": "efe0f217",
   "metadata": {},
   "source": [
    "Before showing how the Kirillov projector works, let us introduce the main component in its definition - a quantum minor. Its arguments are lists corresponding to the rows and columns."
   ]
  },
  {
   "cell_type": "code",
   "execution_count": 6,
   "id": "c2414b64",
   "metadata": {},
   "outputs": [
    {
     "name": "stdout",
     "output_type": "stream",
     "text": [
      "G['E_1_2']\n",
      "t + G['E_1_1']\n",
      "t^2 + (G['E_1_1'] + G['E_2_2'] - h)*t - G['E_2_1']*G['E_1_2'] + G['E_1_1']*G['E_2_2'] - h*G['E_1_1']\n"
     ]
    }
   ],
   "source": [
    "print(W.minor([1],[2]))\n",
    "print(W.minor([1],[1]))\n",
    "print(W.minor([1,2],[1,2]))"
   ]
  },
  {
   "cell_type": "markdown",
   "id": "f3b04b1a",
   "metadata": {},
   "source": [
    "For instance, let us check that the Capelli determinant is central in $\\mathrm{U}_{\\hbar} (\\mathfrak{gl}_N)$."
   ]
  },
  {
   "cell_type": "code",
   "execution_count": 7,
   "id": "bd41dd7e",
   "metadata": {},
   "outputs": [
    {
     "name": "stdout",
     "output_type": "stream",
     "text": [
      "True\n"
     ]
    }
   ],
   "source": [
    "indices = list(range(1,N+1))\n",
    "capelli = W.minor(indices,indices)\n",
    "ifCentral = 1\n",
    "for i in range(N):\n",
    "    for j in range(N):\n",
    "        ifCentral *= (G['E_' + str(i+1) + '_' + str(j+1)]*capelli - capelli*G['E_' + str(i+1) + '_' + str(j+1)] == 0)\n",
    "\n",
    "print(ifCentral == 1)"
   ]
  },
  {
   "cell_type": "markdown",
   "id": "b8739574",
   "metadata": {},
   "source": [
    "The action of the series $P_{ij}^{\\psi}(-u)$ of (4.1) can be compute using the `noe` function. There is a parameter `shift` corresponding to $u$. "
   ]
  },
  {
   "cell_type": "code",
   "execution_count": 8,
   "id": "39750987",
   "metadata": {},
   "outputs": [
    {
     "name": "stdout",
     "output_type": "stream",
     "text": [
      "-G['E_1_1']*G['v_2'] + G['v_1']\n",
      "-G['E_1_1']*G['v_2'] + G['v_1'] - 2*h*G['v_2']\n"
     ]
    }
   ],
   "source": [
    "print(W.noe(2,1,v[1]))\n",
    "print(W.noe(2,1,v[1],shift=2))"
   ]
  },
  {
   "cell_type": "markdown",
   "id": "229c4b2d",
   "metadata": {},
   "source": [
    "Finally, the Kirillov projector $P_{\\mathfrak{m}_N}^{\\psi}(u_1,\\ldots,u_{N-1})$ is given by the function `proj`. The parameters are specified by `u_1,u_2,...,u_{N-1}`."
   ]
  },
  {
   "cell_type": "code",
   "execution_count": 9,
   "id": "7d08dbce",
   "metadata": {},
   "outputs": [
    {
     "name": "stdout",
     "output_type": "stream",
     "text": [
      "-G['E_1_1']*G['v_4'] - G['E_2_2']*G['v_4'] - G['E_3_3']*G['v_4'] + G['v_3']\n",
      "-G['E_1_1']*G['v_4'] - G['E_2_2']*G['v_4'] - G['E_3_3']*G['v_4'] + G['v_3'] - 3*h*G['v_4']\n"
     ]
    }
   ],
   "source": [
    "vec=v[3]\n",
    "print(W.proj(vec))\n",
    "print(W.proj(vec,u_1=2,u_2=3))"
   ]
  },
  {
   "cell_type": "markdown",
   "id": "b2cf1613",
   "metadata": {},
   "source": [
    "To check if the vector we obtained is Whittaker we can use the function `isInv`."
   ]
  },
  {
   "cell_type": "code",
   "execution_count": 10,
   "id": "7b3c0501",
   "metadata": {},
   "outputs": [
    {
     "name": "stdout",
     "output_type": "stream",
     "text": [
      "The vector is:  G['v_1']\n",
      "Invariant after projector:  True \n",
      "\n",
      "E_2_1:  -h*G['v_2']\n",
      "E_3_1:  -h*G['v_3']\n",
      "E_4_1:  -h*G['v_4']\n",
      "Invariant before projector:  False\n"
     ]
    }
   ],
   "source": [
    "vec = v[1]\n",
    "print(\"The vector is: \",vec)\n",
    "print(\"Invariant after projector: \",W.isInv(W.proj(vec)),\"\\n\")\n",
    "print(\"Invariant before projector: \",W.isInv(vec))"
   ]
  },
  {
   "cell_type": "markdown",
   "id": "1d71b466",
   "metadata": {},
   "source": [
    "As we see, it outputs the elements under which the corresponding vector is not invariant.\n",
    "\n",
    "Let us try something more complicated, namely, an element in the tensor product."
   ]
  },
  {
   "cell_type": "code",
   "execution_count": 36,
   "id": "4348715c",
   "metadata": {},
   "outputs": [
    {
     "data": {
      "text/plain": [
       "True"
      ]
     },
     "execution_count": 36,
     "metadata": {},
     "output_type": "execute_result"
    }
   ],
   "source": [
    "w = W.proj(v[1]*u[1])\n",
    "W.isInv(w)"
   ]
  },
  {
   "cell_type": "markdown",
   "id": "133b8b29",
   "metadata": {},
   "source": [
    "There is an additional parameter `truncation` which applies the projector $P_{\\mathfrak{m}_{N-i}}^{\\psi}$ for $i \\geq 0$, where `i` is the truncation parameter."
   ]
  },
  {
   "cell_type": "code",
   "execution_count": 12,
   "id": "fb103471",
   "metadata": {},
   "outputs": [
    {
     "name": "stdout",
     "output_type": "stream",
     "text": [
      "G['v_1']\n"
     ]
    }
   ],
   "source": [
    "a = v[1]\n",
    "b = W.proj(a,truncation=1)\n",
    "print(b)"
   ]
  },
  {
   "cell_type": "markdown",
   "id": "a0e61cc8",
   "metadata": {},
   "source": [
    "Many properties in loc. cit. were obtained with the help of the software. For instance, let us verify Lemma 4.9."
   ]
  },
  {
   "cell_type": "code",
   "execution_count": 28,
   "id": "1101bc5c",
   "metadata": {},
   "outputs": [
    {
     "data": {
      "text/plain": [
       "True"
      ]
     },
     "execution_count": 28,
     "metadata": {},
     "output_type": "execute_result"
    }
   ],
   "source": [
    "x=5\n",
    "\n",
    "c = b\n",
    "c = W.noe(2,1,c,shift=x)\n",
    "c = W.noe(3,1,c,shift=x)\n",
    "\n",
    "lhs = W.quotient((t-h*x)*c*W.minor([4,2],[1,2]))\n",
    "rhs = W.quotient(c*G['E_4_1']*(W.minor([1,2],[1,2]) - W.minor([1,2],[1,2])(h*x)))\n",
    "\n",
    "lhs == rhs"
   ]
  },
  {
   "cell_type": "markdown",
   "id": "9ce26ac3",
   "metadata": {},
   "source": [
    "And with the character:"
   ]
  },
  {
   "cell_type": "code",
   "execution_count": 35,
   "id": "25cb5ba5",
   "metadata": {},
   "outputs": [
    {
     "data": {
      "text/plain": [
       "True"
      ]
     },
     "execution_count": 35,
     "metadata": {},
     "output_type": "execute_result"
    }
   ],
   "source": [
    "x = 4\n",
    "\n",
    "c = b\n",
    "c = W.noe(2,1,c,shift=x)\n",
    "c = W.noe(3,1,c,shift=x)\n",
    "\n",
    "lhs = W.quotient((t-h*x)*c*(W.minor([4,2,3],[1,2,3])-1))\n",
    "rhs = W.quotient(c*G['E_4_1']*(W.minor([1,2,3],[1,2,3]) - W.minor([1,2,3],[1,2,3])(h*x)))\n",
    "\n",
    "lhs == rhs"
   ]
  },
  {
   "cell_type": "markdown",
   "id": "1fe20cc1",
   "metadata": {},
   "source": [
    "One can similarly verify other properties from the paper."
   ]
  }
 ],
 "metadata": {
  "kernelspec": {
   "display_name": "SageMath 9.8",
   "language": "sage",
   "name": "sagemath-9.8"
  },
  "language_info": {
   "codemirror_mode": {
    "name": "ipython",
    "version": 3
   },
   "file_extension": ".py",
   "mimetype": "text/x-python",
   "name": "python",
   "nbconvert_exporter": "python",
   "pygments_lexer": "ipython3",
   "version": "3.11.1"
  }
 },
 "nbformat": 4,
 "nbformat_minor": 5
}
